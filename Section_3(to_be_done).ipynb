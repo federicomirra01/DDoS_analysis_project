{
 "cells": [
  {
   "cell_type": "markdown",
   "metadata": {},
   "source": [
    "Unsupervised learning - Clustering"
   ]
  },
  {
   "cell_type": "code",
   "execution_count": 2,
   "metadata": {},
   "outputs": [],
   "source": [
    "import pandas as pd \n",
    "import matplotlib.pyplot as plt \n",
    "import numpy as np  \n",
    "import seaborn as sns\n",
    "from sklearn.mixture import GaussianMixture\n",
    "from sklearn.cluster import DBSCAN\n",
    "from sklearn.metrics import silhouette_score, adjusted_rand_score, rand_score"
   ]
  },
  {
   "cell_type": "code",
   "execution_count": 15,
   "metadata": {},
   "outputs": [],
   "source": [
    "df = pd.read_csv('ddos_dataset.csv', low_memory=False)\n",
    "X = pd.read_csv('pca_dataframe.csv', low_memory=False).to_numpy()\n",
    "y = df['label']\n",
    "n_y = len(y.unique()) #number of different labels\n",
    "y = df['label'].to_numpy()\n"
   ]
  },
  {
   "cell_type": "markdown",
   "metadata": {},
   "source": [
    "Number of cluster selection: we evaluate the proper number of clusters on the silhouette score in a validation computing the silhouette score for differents number cluster of parameters for each clustering algorithm chosen"
   ]
  },
  {
   "cell_type": "markdown",
   "metadata": {},
   "source": [
    "Gaussian Mixture"
   ]
  },
  {
   "cell_type": "code",
   "execution_count": 18,
   "metadata": {},
   "outputs": [],
   "source": [
    "n_cluster = []\n",
    "sh_scores = []\n",
    "ri_scores = []\n",
    "ari_scores = []\n",
    "log_l_list = []\n",
    "\n",
    "for n in range (int(n_y / 2), int(1.5 * n_y)):\n",
    "    gmm = GaussianMixture(n_components=n)\n",
    "    labels = gmm.fit_predict(X)\n",
    "    n_cluster.append(n)\n",
    "    sh_scores.append(silhouette_score(X, labels))\n",
    "    ri_scores.append(rand_score(np.ravel(y), labels))\n",
    "    ari_scores.append(adjusted_rand_score(np.ravel(y), labels))\n",
    "    log_l_list.append(gmm.score(X))\n",
    "\n",
    "best_sh = np.max(sh_scores)\n",
    "best_n = n_cluster[np.argmax(sh_scores)]\n",
    "print(f'Best number of clusters: {best_n} with corresponding silhouette score: {best_sh}')\n",
    "\n",
    "plt.figure(figsize=(5, 3.5))\n",
    "plt.plot(n_cluster, sh_scores, marker='o', markersize=5)\n",
    "plt.scatter(best_n, best_sh, color='r', marker='x', s=90)\n",
    "plt.grid()\n",
    "plt.xlabel('Number of clusters')\n",
    "plt.ylabel('Silhouette score') \n",
    "plt.show()\n",
    "\n",
    "print(\"Other metrics: log-likehood, ri, ari\")\n",
    "\n",
    "plt.figure(figsize=(5, 3.5))\n",
    "plt.plot(n_cluster, log_l_list, marker='o', markersize=5)\n",
    "plt.grid()\n",
    "plt.xlabel('Number of clusters')\n",
    "plt.ylabel('GMM total log-likelihood score')\n",
    "plt.show()\n",
    "\n",
    "plt.figure(figsize=(5, 3.5))\n",
    "plt.plot(n_cluster, ri_scores, marker='o', markersize=5)\n",
    "plt.grid()\n",
    "plt.xlabel('Number of clusters')\n",
    "plt.ylabel('Range Index score')\n",
    "plt.show()\n",
    "\n",
    "plt.figure(figsize=(5, 3.5))\n",
    "plt.plot(n_cluster, ari_scores, marker='o', markersize=5)\n",
    "plt.grid()\n",
    "plt.xlabel('Number of clusters')\n",
    "plt.ylabel('Adjusted Rand Index score')\n",
    "plt.show()\n"
   ]
  },
  {
   "cell_type": "markdown",
   "metadata": {},
   "source": [
    "DBSCAN"
   ]
  },
  {
   "cell_type": "code",
   "execution_count": null,
   "metadata": {},
   "outputs": [],
   "source": [
    "sh_scores = []\n",
    "for eps in range (0.01, 2, 0.01):\n",
    "    for mins in range(1, 20):\n",
    "        dbscan = DBSCAN(eps=eps, min_samples=mins)\n",
    "        labels = dbscan.fit_predict(X)\n",
    "        try:\n",
    "            silhouette = silhouette_score(X, labels)\n",
    "        except:\n",
    "            silhouette = np.nan \n",
    "        sh_scores.append(silhouette)\n",
    "\n",
    "gs = pd.DataFrame(sh_scores, columns=['eps', 'minPts', 'sh_scores'])\n",
    "gs = pd.pivot_table(gs, columns='eps', index='minPts', values='sh_scores', aggfunc=lambda x:x)\n",
    "\n",
    "plt.figure(figsize=(12,3))\n",
    "max_ss = gs.max().max()\n",
    "mins_max_ss = gs.stack().idxmax()[0]\n",
    "eps_max_ss = gs.stack().idxmax()[1]\n",
    "plt.title(f'The maximum silhouette score is {max_ss} with min_samples of {mins_max_ss} and epsilon of {eps_max_ss}')\n",
    "sns.heatmap(gs, cmap='Blues', cbar_kws={'label':'Silhouette score'}, linewidths=.005)\n",
    "plt.gca().invert_yaxis()\n",
    "plt.show()\n"
   ]
  }
 ],
 "metadata": {
  "kernelspec": {
   "display_name": "Python 3",
   "language": "python",
   "name": "python3"
  },
  "language_info": {
   "codemirror_mode": {
    "name": "ipython",
    "version": 3
   },
   "file_extension": ".py",
   "mimetype": "text/x-python",
   "name": "python",
   "nbconvert_exporter": "python",
   "pygments_lexer": "ipython3",
   "version": "3.11.6"
  }
 },
 "nbformat": 4,
 "nbformat_minor": 2
}
